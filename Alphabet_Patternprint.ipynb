{
  "nbformat": 4,
  "nbformat_minor": 0,
  "metadata": {
    "colab": {
      "name": "Alphabet_Patternprint.ipynb",
      "provenance": [],
      "include_colab_link": true
    },
    "kernelspec": {
      "name": "python3",
      "display_name": "Python 3"
    },
    "language_info": {
      "name": "python"
    }
  },
  "cells": [
    {
      "cell_type": "markdown",
      "metadata": {
        "id": "view-in-github",
        "colab_type": "text"
      },
      "source": [
        "<a href=\"https://colab.research.google.com/github/classicrider7/Python_exercise/blob/main/Alphabet_Patternprint.ipynb\" target=\"_parent\"><img src=\"https://colab.research.google.com/assets/colab-badge.svg\" alt=\"Open In Colab\"/></a>"
      ]
    },
    {
      "cell_type": "code",
      "metadata": {
        "colab": {
          "base_uri": "https://localhost:8080/"
        },
        "id": "zIvTHDOeczsd",
        "outputId": "39c40241-471a-45ea-f55b-6d5b8d29ecf8"
      },
      "source": [
        "# 1. Wap for H using for loop\n",
        "for i in range(7):\n",
        "    if i==3:\n",
        "        for k in range(5):\n",
        "            print(\"* \", end=\"\")\n",
        "    for j in range(1):\n",
        "        if i==3:\n",
        "            continue\n",
        "        print(\"* \", end=\"\")\n",
        "    for j in range(2,5):\n",
        "        print(\"  \", end=\"\")\n",
        "    for j in range(5,6):\n",
        "        if i==3:\n",
        "            continue\n",
        "        print(\"* \", end=\"\")\n",
        "    print()"
      ],
      "execution_count": null,
      "outputs": [
        {
          "output_type": "stream",
          "name": "stdout",
          "text": [
            "*       * \n",
            "*       * \n",
            "*       * \n",
            "* * * * *       \n",
            "*       * \n",
            "*       * \n",
            "*       * \n"
          ]
        }
      ]
    },
    {
      "cell_type": "code",
      "metadata": {
        "colab": {
          "base_uri": "https://localhost:8080/"
        },
        "id": "ks3rBn7D9bzL",
        "outputId": "4146b129-858f-42fe-e0c2-6f851ab99ed8"
      },
      "source": [
        "for i in range(7):\n",
        "  for j in range(5):\n",
        "        if (i!=0 and (j == 0 or j == 4))  or (( i == 0 or i==3) and (j > 0 and j < 4)):\n",
        "            print(\"* \", end=\"\")\n",
        "        else:\n",
        "            print(end=\"  \")\n",
        "  print()"
      ],
      "execution_count": null,
      "outputs": [
        {
          "output_type": "stream",
          "name": "stdout",
          "text": [
            "  * * *   \n",
            "*       * \n",
            "*       * \n",
            "* * * * * \n",
            "*       * \n",
            "*       * \n",
            "*       * \n"
          ]
        }
      ]
    },
    {
      "cell_type": "code",
      "metadata": {
        "colab": {
          "base_uri": "https://localhost:8080/"
        },
        "id": "Hxq928GAoXa1",
        "outputId": "fd11f2bc-0b32-4671-f213-3754c22a2bb0"
      },
      "source": [
        "\n",
        "# * * * * \n",
        "# *       *\n",
        "# *       *\n",
        "# * * * *\n",
        "# *       *\n",
        "# *       *\n",
        "# * * * *\n",
        "\n",
        "for i in range(7):\n",
        "  for j in range(4):\n",
        "    if j==0 or ((i==0 or i==3 or i==6) and (j>0 and j<3)) or (j==3 and (i>0 and i<3)) or ((j==3) and (i>3 and i<6)) :\n",
        "      print(\"* \", end=\"\")\n",
        "    else:\n",
        "      print(\"  \", end=\"\")\n",
        "  print()"
      ],
      "execution_count": null,
      "outputs": [
        {
          "output_type": "stream",
          "name": "stdout",
          "text": [
            "* * *   \n",
            "*     * \n",
            "*     * \n",
            "* * *   \n",
            "*     * \n",
            "*     * \n",
            "* * *   \n"
          ]
        }
      ]
    },
    {
      "cell_type": "code",
      "metadata": {
        "colab": {
          "base_uri": "https://localhost:8080/"
        },
        "id": "q79tqiCpzpkW",
        "outputId": "dac16539-729c-4916-c9fc-05ed4ede6f06"
      },
      "source": [
        "\"\"\"\n",
        "    * * *\n",
        "  *\n",
        "*\n",
        "*\n",
        "*\n",
        "  *\n",
        "    * * * \"\"\"\n",
        "\n",
        "for i in range(7):\n",
        "  for j in range(5):\n",
        "    if (j==0 and (i>1 and i<5)) or ((i==1 or i==5) and j==1) or ((i==0 or i==6) and j>1):\n",
        "      print(\"* \", end=\"\")\n",
        "    else:\n",
        "      print(\"  \", end=\"\")\n",
        "  print()\n"
      ],
      "execution_count": 5,
      "outputs": [
        {
          "output_type": "stream",
          "name": "stdout",
          "text": [
            "    * * * \n",
            "  *       \n",
            "*         \n",
            "*         \n",
            "*         \n",
            "  *       \n",
            "    * * * \n"
          ]
        }
      ]
    },
    {
      "cell_type": "code",
      "metadata": {
        "id": "M7ur0slAv12G",
        "colab": {
          "base_uri": "https://localhost:8080/"
        },
        "outputId": "aab8b500-0fe2-457f-e9fa-3e3560877a15"
      },
      "source": [
        "# * * *  \n",
        "# *     *  \n",
        "# *       *\n",
        "# *       *\n",
        "# *       *\n",
        "# *     * \n",
        "# * * * \n",
        "\n",
        "for i in range(7):\n",
        "  for j in range(5):\n",
        "    if j==0 or ((i==0 or i==6) and (j>0 and j<3)) or ((i==1 or i==5) and j==3) or (j==4 and (i>1 and i<5)):\n",
        "      print(\"* \", end=\"\")\n",
        "    else:\n",
        "      print(\"  \",end=\"\")\n",
        "  print()\n"
      ],
      "execution_count": 2,
      "outputs": [
        {
          "output_type": "stream",
          "name": "stdout",
          "text": [
            "* * *     \n",
            "*     *   \n",
            "*       * \n",
            "*       * \n",
            "*       * \n",
            "*     *   \n",
            "* * *     \n"
          ]
        }
      ]
    },
    {
      "cell_type": "code",
      "metadata": {
        "colab": {
          "base_uri": "https://localhost:8080/"
        },
        "id": "Rh5ncfzmwM3q",
        "outputId": "0c10fbb2-a935-4d97-e191-59a9d047b183"
      },
      "source": [
        "# * * * * \n",
        "# *       \n",
        "# *       \n",
        "# * * * *\n",
        "# *       \n",
        "# *       \n",
        "# * * * *\n",
        "\n",
        "\n",
        "for i in range(7):\n",
        "  for j in range(5):\n",
        "    if ((i==0 or i==3 or i==6) and (j>0 and j<4)) or j==0:\n",
        "      print(\"* \", end=\"\")\n",
        "  else:\n",
        "    print(end=\"  \")\n",
        "  print()"
      ],
      "execution_count": null,
      "outputs": [
        {
          "output_type": "stream",
          "name": "stdout",
          "text": [
            "* * * *   \n",
            "*   \n",
            "*   \n",
            "* * * *   \n",
            "*   \n",
            "*   \n",
            "* * * *   \n"
          ]
        }
      ]
    },
    {
      "cell_type": "code",
      "metadata": {
        "colab": {
          "base_uri": "https://localhost:8080/"
        },
        "id": "pTdkZ-2swgfQ",
        "outputId": "2c799335-f2e2-4a52-d290-a35fe680ab54"
      },
      "source": [
        "# * * * * \n",
        "# *       \n",
        "# *       \n",
        "# * * * *\n",
        "# *       \n",
        "# *       \n",
        "# * \n",
        "\n",
        "for i in range(7):\n",
        "  for j in range(5):\n",
        "    if ((i==0 or i==3) and (j>0 and j<4)) or j==0:\n",
        "      print(\"* \", end=\"\")\n",
        "  else:\n",
        "    print(end=\"  \")\n",
        "  print()"
      ],
      "execution_count": null,
      "outputs": [
        {
          "output_type": "stream",
          "name": "stdout",
          "text": [
            "* * * *   \n",
            "*   \n",
            "*   \n",
            "* * * *   \n",
            "*   \n",
            "*   \n",
            "*   \n"
          ]
        }
      ]
    },
    {
      "cell_type": "code",
      "metadata": {
        "id": "ujE23_XAwugL",
        "colab": {
          "base_uri": "https://localhost:8080/"
        },
        "outputId": "39868e54-fa56-4fd0-e308-84407223c189"
      },
      "source": [
        "\"\"\"\n",
        "    * * *\n",
        "  *\n",
        "*\n",
        "*   * * * \n",
        "*       *\n",
        "  *     *\n",
        "    * * * \"\"\"\n",
        "\n",
        "for i in range(7):\n",
        "  for j in range(5):\n",
        "    if (j==0 and (i>1 and i<5)) or ((i==1 or i==5) and j==1) or ((i==0 or i==3 or i==6) and (j>1 and j<4)) or (j==4 and (i==0 or i>2)):\n",
        "      print(\"* \", end=\"\")\n",
        "    else:\n",
        "      print(\"  \", end=\"\")\n",
        "  print()\n"
      ],
      "execution_count": 10,
      "outputs": [
        {
          "output_type": "stream",
          "name": "stdout",
          "text": [
            "    * * * \n",
            "  *       \n",
            "*         \n",
            "*   * * * \n",
            "*       * \n",
            "  *     * \n",
            "    * * * \n"
          ]
        }
      ]
    },
    {
      "cell_type": "code",
      "metadata": {
        "colab": {
          "base_uri": "https://localhost:8080/"
        },
        "id": "z7bMBduxw-TO",
        "outputId": "d5edae21-fe93-4b04-9e8e-074ce78b8129"
      },
      "source": [
        "# *       * \n",
        "# *       * \n",
        "# *       * \n",
        "# * * * * * \n",
        "# *       * \n",
        "# *       * \n",
        "# *       *\n",
        "\n",
        "for i in range(7):\n",
        "    for j in range(5):\n",
        "        if(j==0 or j==4) or (i==3 and (j>0 and j<4)):\n",
        "            print(\"*\", end=\" \")\n",
        "        else:\n",
        "            print(end=\"  \")\n",
        "    print()"
      ],
      "execution_count": null,
      "outputs": [
        {
          "output_type": "stream",
          "name": "stdout",
          "text": [
            "*       * \n",
            "*       * \n",
            "*       * \n",
            "* * * * * \n",
            "*       * \n",
            "*       * \n",
            "*       * \n"
          ]
        }
      ]
    },
    {
      "cell_type": "code",
      "metadata": {
        "colab": {
          "base_uri": "https://localhost:8080/"
        },
        "id": "qDxPH3NrxYy1",
        "outputId": "2e26bf70-df8d-4158-fc8e-ce0a72991e9b"
      },
      "source": [
        "# * * * * *\n",
        "#     *\n",
        "#     *\n",
        "#     *\n",
        "#     *\n",
        "#     *\n",
        "# * * * * *\n",
        "\n",
        "for i in range(7):\n",
        "  for j in range(5):\n",
        "    if (i==0 or i ==6) or (j == 2 and (i > 0 and i < 6)):\n",
        "      print(\"* \", end=\"\")\n",
        "    else:\n",
        "      print(\"  \", end=\"\")\n",
        "  print()\n",
        "\n"
      ],
      "execution_count": null,
      "outputs": [
        {
          "output_type": "stream",
          "name": "stdout",
          "text": [
            "* * * * * \n",
            "    *     \n",
            "    *     \n",
            "    *     \n",
            "    *     \n",
            "    *     \n",
            "* * * * * \n"
          ]
        }
      ]
    },
    {
      "cell_type": "code",
      "metadata": {
        "colab": {
          "base_uri": "https://localhost:8080/"
        },
        "id": "C8yjtxqBUDNN",
        "outputId": "488c71d7-de6e-4f88-a9b0-228c00777205"
      },
      "source": [
        "#         *\n",
        "#         *\n",
        "#         *\n",
        "#         *\n",
        "# *       *\n",
        "# *       *\n",
        "#  * * * * \n",
        "\n",
        "for i in range(7):\n",
        "  for j in range(5):\n",
        "    if ((i >=0 and i<4) and j==4) or ((i>=4 and i<6) and (j==0 or j==4)) or (i==6 and (j>0 and j<4)) :\n",
        "      print(\"* \", end=\"\")\n",
        "    else:\n",
        "      print(\"  \", end=\"\")\n",
        "  print()\n",
        "  \n",
        "\n",
        "\n"
      ],
      "execution_count": null,
      "outputs": [
        {
          "output_type": "stream",
          "name": "stdout",
          "text": [
            "        * \n",
            "        * \n",
            "        * \n",
            "        * \n",
            "*       * \n",
            "*       * \n",
            "  * * *   \n"
          ]
        }
      ]
    },
    {
      "cell_type": "code",
      "metadata": {
        "colab": {
          "base_uri": "https://localhost:8080/"
        },
        "id": "R9cp_EOXYJmH",
        "outputId": "46acf6fc-abc2-4442-91be-6c97dba6c22c"
      },
      "source": [
        "# *     *\n",
        "# *   *\n",
        "# * * \n",
        "# * \n",
        "# * *\n",
        "# *   *\n",
        "# *     *\n",
        "\n",
        "for i in range(7):\n",
        "  for j in range(5):\n",
        "    if j==1 or (j==2 and (i==2 or i ==4)) or (j==3 and (i==1 or i==5)) or (j==4 and (i==0 or i==6)):\n",
        "         print(\"* \", end=\"\")\n",
        "    else:\n",
        "      print(\"  \", end=\"\")\n",
        "  print()"
      ],
      "execution_count": null,
      "outputs": [
        {
          "output_type": "stream",
          "name": "stdout",
          "text": [
            "  *     * \n",
            "  *   *   \n",
            "  * *     \n",
            "  *       \n",
            "  * *     \n",
            "  *   *   \n",
            "  *     * \n"
          ]
        }
      ]
    },
    {
      "cell_type": "code",
      "metadata": {
        "colab": {
          "base_uri": "https://localhost:8080/"
        },
        "id": "1hb2u7tMaupe",
        "outputId": "85519b8f-2cdd-4848-9557-4edd274e3ebf"
      },
      "source": [
        "#  * \n",
        "#  *\n",
        "#  *\n",
        "#  *\n",
        "#  *\n",
        "#  *\n",
        "#  * * * * *\n",
        "\n",
        "\n",
        "for i in range(7):\n",
        "  for j in range(5):\n",
        "    if j==0 or i==6:\n",
        "         print(\"* \", end=\"\")\n",
        "    else:\n",
        "      print(\"  \", end=\"\")\n",
        "  print()"
      ],
      "execution_count": null,
      "outputs": [
        {
          "output_type": "stream",
          "name": "stdout",
          "text": [
            "*         \n",
            "*         \n",
            "*         \n",
            "*         \n",
            "*         \n",
            "*         \n",
            "* * * * * \n"
          ]
        }
      ]
    },
    {
      "cell_type": "code",
      "metadata": {
        "colab": {
          "base_uri": "https://localhost:8080/"
        },
        "id": "RoMfoATzdEtq",
        "outputId": "12c8690f-3fff-4ec9-df1f-4153f5da92eb"
      },
      "source": [
        "# *           *\n",
        "# * *       * *\n",
        "# *   *   *   *\n",
        "# *     *     *\n",
        "# *           *\n",
        "# *           *\n",
        "# *           *\n",
        "\n",
        "for i in range(7):\n",
        "  for j in range(7):\n",
        "    if (j==0 or j==6) or ((j>0 and j<4) and j==i ) or (j==4 and i==2) or (j==5 and i==1):\n",
        "       print(\"* \", end=\"\")\n",
        "    else:\n",
        "      print(\"  \", end=\"\")\n",
        "  print()\n",
        "\n"
      ],
      "execution_count": null,
      "outputs": [
        {
          "output_type": "stream",
          "name": "stdout",
          "text": [
            "*           * \n",
            "* *       * * \n",
            "*   *   *   * \n",
            "*     *     * \n",
            "*           * \n",
            "*           * \n",
            "*           * \n"
          ]
        }
      ]
    },
    {
      "cell_type": "code",
      "metadata": {
        "colab": {
          "base_uri": "https://localhost:8080/"
        },
        "id": "fbUVjNLqlZjp",
        "outputId": "a4744c2b-c207-425c-ed42-8f215b3eafae"
      },
      "source": [
        "for i in range(7):\n",
        "  for j in range(7):\n",
        "    if (j==0 or j==6) or ((j>0 and j<6) and (j==i)):\n",
        "       print(\"* \", end=\"\")\n",
        "    else:\n",
        "      print(\"  \", end=\"\")\n",
        "  print()"
      ],
      "execution_count": null,
      "outputs": [
        {
          "output_type": "stream",
          "name": "stdout",
          "text": [
            "*           * \n",
            "* *         * \n",
            "*   *       * \n",
            "*     *     * \n",
            "*       *   * \n",
            "*         * * \n",
            "*           * \n"
          ]
        }
      ]
    },
    {
      "cell_type": "code",
      "metadata": {
        "colab": {
          "base_uri": "https://localhost:8080/"
        },
        "id": "hXOvn7_lsFyI",
        "outputId": "647b227d-7f62-48b9-98ef-52e0b4b8a951"
      },
      "source": [
        "\"\"\"\n",
        "    * * * \n",
        "  *       *\n",
        "*           *\n",
        "*           *\n",
        "*           *\n",
        "  *       *  \n",
        "    * * *\n",
        "\"\"\"\n",
        "for i in range(7):\n",
        "  for j in range(7):\n",
        "    if ((j==0 or j==6) and (i>1 and i<5)) or ((i==1 or i==5) and (j==1 \n",
        "                        or j==5)) or ((i==0 or i==6) and (j>1 and j<5)):\n",
        "      print(\"* \", end=\"\")\n",
        "    else:\n",
        "      print(\"  \", end=\"\")\n",
        "  print()\n",
        "\n",
        "\n"
      ],
      "execution_count": 15,
      "outputs": [
        {
          "output_type": "stream",
          "name": "stdout",
          "text": [
            "    * * *     \n",
            "  *       *   \n",
            "*           * \n",
            "*           * \n",
            "*           * \n",
            "  *       *   \n",
            "    * * *     \n"
          ]
        }
      ]
    },
    {
      "cell_type": "code",
      "metadata": {
        "colab": {
          "base_uri": "https://localhost:8080/"
        },
        "id": "xs-2-abz09TQ",
        "outputId": "855d042b-921f-49bb-9929-fd687413fc71"
      },
      "source": [
        "# * * *\n",
        "# *     *\n",
        "# *     *    \n",
        "# * * *\n",
        "# *     \n",
        "# *       \n",
        "# *  \n",
        "\n",
        "for i in range(7):\n",
        "  for j in range(4):\n",
        "    if j==0 or ((i==0 or i==3) and (j>0 and j<3)) or (j==3 and (i>0 and i<3)):\n",
        "      print(\"* \", end=\"\")\n",
        "    else:\n",
        "      print(\"  \", end=\"\")\n",
        "  print()"
      ],
      "execution_count": null,
      "outputs": [
        {
          "output_type": "stream",
          "name": "stdout",
          "text": [
            "* * *   \n",
            "*     * \n",
            "*     * \n",
            "* * *   \n",
            "*       \n",
            "*       \n",
            "*       \n"
          ]
        }
      ]
    },
    {
      "cell_type": "code",
      "metadata": {
        "colab": {
          "base_uri": "https://localhost:8080/"
        },
        "id": "OTQIiNvI-BZi",
        "outputId": "526b9bf7-02bc-4259-f002-ac887a8d994a"
      },
      "source": [
        "\"\"\"\n",
        "    * * * \n",
        "  *       *\n",
        "*           *\n",
        "*           *\n",
        "*           *\n",
        "  *     * *  \n",
        "    * * * *\n",
        "            * \n",
        "\"\"\"\n",
        "for i in range(8):\n",
        "  for j in range(7):\n",
        "    if ((j==0 or j==6) and (i>1 and i<5)) or ((i==1 or i==5) and (j==1 \n",
        "        or j==5)) or ((i==0 or i==6) and (j>1 and j<5)) or (i==5\n",
        "                                      and j==4) or (i==6 and j==5) or (i==7 and j==6) :\n",
        "      print(\"* \", end=\"\")\n",
        "    else:\n",
        "      print(\"  \", end=\"\")\n",
        "  print()"
      ],
      "execution_count": 17,
      "outputs": [
        {
          "output_type": "stream",
          "name": "stdout",
          "text": [
            "    * * *     \n",
            "  *       *   \n",
            "*           * \n",
            "*           * \n",
            "*           * \n",
            "  *     * *   \n",
            "    * * * *   \n",
            "            * \n"
          ]
        }
      ]
    },
    {
      "cell_type": "code",
      "metadata": {
        "colab": {
          "base_uri": "https://localhost:8080/"
        },
        "id": "rcR73lzK5DiO",
        "outputId": "49311cd9-927b-4c2c-db5d-15f20fd4890b"
      },
      "source": [
        "\"\"\"\n",
        "* * * \n",
        "*     *\n",
        "*     *    \n",
        "* * *\n",
        "* *    \n",
        "*   *    \n",
        "*     *\n",
        "4   1\n",
        "5   2\n",
        "6   3\n",
        "\"\"\"\n",
        "for i in range(7):\n",
        "  for j in range(4):\n",
        "    if j==0 or ((i==0 or i==3) and (j>0 and j<3)) or (j==3 and (i>0 and i<3)) or (i>3 and (j>0 and i==3+j)) :\n",
        "      print(\"* \", end=\"\")\n",
        "    else:\n",
        "      print(\"  \", end=\"\")\n",
        "  print()"
      ],
      "execution_count": null,
      "outputs": [
        {
          "output_type": "stream",
          "name": "stdout",
          "text": [
            "* * *   \n",
            "*     * \n",
            "*     * \n",
            "* * *   \n",
            "* *     \n",
            "*   *   \n",
            "*     * \n"
          ]
        }
      ]
    },
    {
      "cell_type": "code",
      "metadata": {
        "colab": {
          "base_uri": "https://localhost:8080/"
        },
        "id": "f1lVXTJUASHs",
        "outputId": "de73e912-25c5-4614-ffd5-159e92471e9d"
      },
      "source": [
        " \"\"\"\n",
        "  * * * * \n",
        "*   \n",
        "*\n",
        "  * * * \n",
        "        *\n",
        "        *\n",
        "* * * *  \"\"\"  \n",
        "\n",
        "for i in range(7):\n",
        "  for j in range(5):\n",
        "    if ((i==0 or i==3 or i==6) and (j>0 and j<4)) or (j==0 and ((i>0 and i<3) \n",
        "    or i==6)) or (j==4 and ((i==0) or (i>3 and i<6))):\n",
        "       print(\"* \", end=\"\")\n",
        "    else:\n",
        "      print(\"  \", end=\"\")\n",
        "  print()\n",
        "\n"
      ],
      "execution_count": 21,
      "outputs": [
        {
          "output_type": "stream",
          "name": "stdout",
          "text": [
            "  * * * * \n",
            "*         \n",
            "*         \n",
            "  * * *   \n",
            "        * \n",
            "        * \n",
            "* * * *   \n"
          ]
        }
      ]
    },
    {
      "cell_type": "code",
      "metadata": {
        "colab": {
          "base_uri": "https://localhost:8080/"
        },
        "id": "3GvQfyP01TE_",
        "outputId": "24586f10-2953-4646-c62d-2d986d52fff2"
      },
      "source": [
        "# * * * * *\n",
        "#     *\n",
        "#     *\n",
        "#     *\n",
        "#     *\n",
        "#     *\n",
        "#     *\n",
        "\n",
        "for i in range(7):\n",
        "  for j in range(5):\n",
        "    if (i==0 ) or (j == 2 and (i > 0 and i <=6)):\n",
        "      print(\"* \", end=\"\")\n",
        "    else:\n",
        "      print(\"  \", end=\"\")\n",
        "  print()"
      ],
      "execution_count": null,
      "outputs": [
        {
          "output_type": "stream",
          "name": "stdout",
          "text": [
            "* * * * * \n",
            "    *     \n",
            "    *     \n",
            "    *     \n",
            "    *     \n",
            "    *     \n",
            "    *     \n"
          ]
        }
      ]
    },
    {
      "cell_type": "code",
      "metadata": {
        "colab": {
          "base_uri": "https://localhost:8080/"
        },
        "id": "JCiG6Ca018_N",
        "outputId": "822e5a3b-1f4e-442c-e5eb-1c9ecb0a647a"
      },
      "source": [
        "\"\"\"\n",
        "*       *\n",
        "*       *\n",
        "*       *\n",
        "*       *\n",
        "*       *\n",
        "*       *\n",
        "  * * *   \"\"\"\n",
        "\n",
        "for i in range(7):\n",
        "  for j in range(5):\n",
        "    if(( j==0 or j==4 )and i<6) or ( i==6 and (j>0 and j<4)):\n",
        "      print(\"* \", end=\"\")\n",
        "    else:\n",
        "      print(\"  \", end=\"\")\n",
        "  print()\n"
      ],
      "execution_count": null,
      "outputs": [
        {
          "output_type": "stream",
          "name": "stdout",
          "text": [
            "*       * \n",
            "*       * \n",
            "*       * \n",
            "*       * \n",
            "*       * \n",
            "*       * \n",
            "  * * *   \n"
          ]
        }
      ]
    },
    {
      "cell_type": "code",
      "metadata": {
        "colab": {
          "base_uri": "https://localhost:8080/"
        },
        "id": "4q7tLiGU3B2l",
        "outputId": "0f9eb9f8-a9e1-4ba6-ddbb-4e1781b202a9"
      },
      "source": [
        "\"\"\"\n",
        "*            *\n",
        " *          *\n",
        "  *        *\n",
        "   *      *\n",
        "    *    *\n",
        "     *  *\n",
        "      *\n",
        "\"\"\"\n",
        "for i in range(8):\n",
        "  for j in range(15):\n",
        "    if (j == i and j<= 8) or (j==14-i and j>=8):\n",
        "     print(\"*\", end=\"\")\n",
        "    else:\n",
        "      print(\" \", end=\"\")\n",
        "  print()"
      ],
      "execution_count": null,
      "outputs": [
        {
          "output_type": "stream",
          "name": "stdout",
          "text": [
            "*             *\n",
            " *           * \n",
            "  *         *  \n",
            "   *       *   \n",
            "    *     *    \n",
            "     *   *     \n",
            "      * *      \n",
            "       *       \n"
          ]
        }
      ]
    },
    {
      "cell_type": "code",
      "metadata": {
        "colab": {
          "base_uri": "https://localhost:8080/"
        },
        "id": "NTb1QRNS5ZYT",
        "outputId": "e9d562e6-a8f9-4696-8f55-feeadd8ee2c6"
      },
      "source": [
        "\"\"\"\n",
        "*                 *\n",
        " *               *\n",
        "  *             *\n",
        "   *     *     *\n",
        "    *   * *   *\n",
        "     * *   * *\n",
        "      *     * \"\"\"\n",
        "\n",
        "for i in range(7):\n",
        "  for k in range(19):\n",
        "    if (k==i and k<7)  or (k==18-i and k>11) or ((k>=7 and k<10) and k==12-i) or ((k>=10 and k<12) and k==6+i):\n",
        "     print(\"*\", end=\"\")\n",
        "    else:\n",
        "      print(\" \", end=\"\")\n",
        "  print()\n",
        "\n"
      ],
      "execution_count": null,
      "outputs": [
        {
          "output_type": "stream",
          "name": "stdout",
          "text": [
            "*                 *\n",
            " *               * \n",
            "  *             *  \n",
            "   *     *     *   \n",
            "    *   * *   *    \n",
            "     * *   * *     \n",
            "      *     *      \n"
          ]
        }
      ]
    },
    {
      "cell_type": "code",
      "metadata": {
        "colab": {
          "base_uri": "https://localhost:8080/"
        },
        "id": "QyXWX_Af9UU4",
        "outputId": "59831204-8df4-4a19-e92d-d1d47c001e95"
      },
      "source": [
        "\"\"\"\n",
        "*     * \n",
        " *   * \n",
        "  * * \n",
        "   *  \n",
        "  * *  \n",
        " *   *\n",
        "*     * \"\"\"\n",
        "\n",
        "for i in range(10):\n",
        "  for k in range(9):\n",
        "    if k==i or k==8-i:\n",
        "      print(\"*\", end=\"\")\n",
        "    else:\n",
        "      print(\" \", end=\"\")\n",
        "  print()"
      ],
      "execution_count": null,
      "outputs": [
        {
          "output_type": "stream",
          "name": "stdout",
          "text": [
            "*       *\n",
            " *     * \n",
            "  *   *  \n",
            "   * *   \n",
            "    *    \n",
            "   * *   \n",
            "  *   *  \n",
            " *     * \n",
            "*       *\n",
            "         \n"
          ]
        }
      ]
    },
    {
      "cell_type": "code",
      "metadata": {
        "colab": {
          "base_uri": "https://localhost:8080/"
        },
        "id": "AFU__G-w-zTY",
        "outputId": "9a4d467f-83ad-474c-88e0-12986365d974"
      },
      "source": [
        "\"\"\"\n",
        "*     * \n",
        " *   * \n",
        "  * * \n",
        "   *  \n",
        "  *   \n",
        " *   \n",
        "*   \"\"\"  \n",
        "\n",
        "for i in range(9):\n",
        "  for k in range(9):\n",
        "    if (k==i and k<4) or k==8-i:\n",
        "      print(\"*\", end=\"\")\n",
        "    else:\n",
        "      print(\" \", end=\"\")\n",
        "  print()"
      ],
      "execution_count": null,
      "outputs": [
        {
          "output_type": "stream",
          "name": "stdout",
          "text": [
            "*       *\n",
            " *     * \n",
            "  *   *  \n",
            "   * *   \n",
            "    *    \n",
            "   *     \n",
            "  *      \n",
            " *       \n",
            "*        \n"
          ]
        }
      ]
    },
    {
      "cell_type": "code",
      "metadata": {
        "colab": {
          "base_uri": "https://localhost:8080/"
        },
        "id": "xnTAbALCAA8r",
        "outputId": "2b8730ab-c4d9-47a0-c35f-cd546d30c8f7"
      },
      "source": [
        "\"\"\"\n",
        "* * * * * *\n",
        "        * \n",
        "      *\n",
        "    *\n",
        "  *\n",
        "*\n",
        "* * * * * *\"\"\"\n",
        "\n",
        "for i in range(7):\n",
        "  for j in range(7):\n",
        "    if i==0 or i==6 or j==6-i:\n",
        "      print(\"* \", end=\"\")\n",
        "    else:\n",
        "      print(\"  \", end=\"\")\n",
        "  print()"
      ],
      "execution_count": null,
      "outputs": [
        {
          "output_type": "stream",
          "name": "stdout",
          "text": [
            "* * * * * * * \n",
            "          *   \n",
            "        *     \n",
            "      *       \n",
            "    *         \n",
            "  *           \n",
            "* * * * * * * \n"
          ]
        }
      ]
    }
  ]
}