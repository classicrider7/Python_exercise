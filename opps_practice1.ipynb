{
  "nbformat": 4,
  "nbformat_minor": 0,
  "metadata": {
    "colab": {
      "name": "opps_practice1.ipynb",
      "provenance": [],
      "authorship_tag": "ABX9TyMBkAt7AjWvR23P8NTJyKDG",
      "include_colab_link": true
    },
    "kernelspec": {
      "name": "python3",
      "display_name": "Python 3"
    },
    "language_info": {
      "name": "python"
    }
  },
  "cells": [
    {
      "cell_type": "markdown",
      "metadata": {
        "id": "view-in-github",
        "colab_type": "text"
      },
      "source": [
        "<a href=\"https://colab.research.google.com/github/classicrider7/Python_exercise/blob/main/opps_practice1.ipynb\" target=\"_parent\"><img src=\"https://colab.research.google.com/assets/colab-badge.svg\" alt=\"Open In Colab\"/></a>"
      ]
    },
    {
      "cell_type": "code",
      "metadata": {
        "colab": {
          "base_uri": "https://localhost:8080/"
        },
        "id": "54MOfOglyFQ9",
        "outputId": "fd8bc9b3-db69-47bf-b82d-5fecc529aa29"
      },
      "source": [
        "# Addition of two numbers using opps:\n",
        "class C:\n",
        "    def __init__(self):\n",
        "        self.a=0\n",
        "        self.b=0\n",
        "        self.sum=0\n",
        "    def add(self):\n",
        "        self.sum=self.a+self.b\n",
        "        print(self.sum)\n",
        "ob = C()\n",
        "ob.a=int(input(\"ennter first number: \"))\n",
        "ob.b=int(input(\"ennter second number: \"))\n",
        "ob.add()\n",
        "\n",
        "\n"
      ],
      "execution_count": 5,
      "outputs": [
        {
          "output_type": "stream",
          "name": "stdout",
          "text": [
            "ennter first number: 50\n",
            "ennter second number: 70\n",
            "120\n"
          ]
        }
      ]
    },
    {
      "cell_type": "code",
      "metadata": {
        "colab": {
          "base_uri": "https://localhost:8080/"
        },
        "id": "_8RUTqS1zIHP",
        "outputId": "8c15ff29-30ad-4b81-a76d-01037bc6a313"
      },
      "source": [
        "### Addition of two numbers using opps:\n",
        "class C:\n",
        "    def __init__(self):\n",
        "        self.a=0\n",
        "        self.b=0\n",
        "        self.sum=0\n",
        "    def add(self):\n",
        "        self.sum=self.a+self.b\n",
        "        print(self.sum)\n",
        "ob = C()\n",
        "ob.a=int(input(\"ennter first number: \"))\n",
        "ob.b=int(input(\"ennter second number: \"))\n",
        "ob.add()"
      ],
      "execution_count": 4,
      "outputs": [
        {
          "output_type": "stream",
          "name": "stdout",
          "text": [
            "ennter first number: 10\n",
            "ennter second number: 20\n",
            "30\n"
          ]
        }
      ]
    },
    {
      "cell_type": "code",
      "metadata": {
        "colab": {
          "base_uri": "https://localhost:8080/"
        },
        "id": "qFkXzCcsythW",
        "outputId": "dc45dabf-6bfc-4813-ef9e-583ae10eec74"
      },
      "source": [
        "# Basic calculator using opps (+,-,*,/)\n",
        "\n",
        "class c1:\n",
        "    def __init__(self):\n",
        "        self.a=0\n",
        "        self.b=0\n",
        "        self.r=0\n",
        "    def add(self):\n",
        "        self.r = self.a + self.b\n",
        "    def sub(self):\n",
        "        self.r = self.a - self.b\n",
        "    def mul(self):\n",
        "        self.r = self.a * self.b\n",
        "    def div(self):\n",
        "        self.r = self.a / self.b\n",
        "p=c1()\n",
        "p.a=int(input(\"enter first number: \"))\n",
        "p.b=int(input(\"enter second number: \"))\n",
        "choice=input(\"Enter your choice: +, _, *, /: \")\n",
        "if choice == \"+\":\n",
        "    p.add()\n",
        "    print(\"Sum of\",p.a,\"and\",p.b,\"are :\",p.r)\n",
        "elif choice == \"-\":\n",
        "    p.sub()\n",
        "    print(\"Subtraction of\",p.a,\"and\",p.b,\"are :\",p.r)\n",
        "elif choice == \"*\":\n",
        "    p.mul()\n",
        "    print(\"Multiply of\",p.a,\"and\",p.b,\"are :\",p.r)\n",
        "elif choice == \"/\":\n",
        "    p.div()\n",
        "    print(\"Divide of\",p.a,\"and\",p.b,\"are :\",p.r)\n",
        "else:\n",
        "    print(\"Incorrect input. please check input, entered numbers should be integer only and operations should be + or - or * or / only\")\n"
      ],
      "execution_count": 3,
      "outputs": [
        {
          "output_type": "stream",
          "name": "stdout",
          "text": [
            "enter first number: 20\n",
            "enter second number: 30\n",
            "Enter your choice: +, _, *, /: -\n",
            "Subtraction of 20 and 30 are : -10\n"
          ]
        }
      ]
    },
    {
      "cell_type": "code",
      "metadata": {
        "colab": {
          "base_uri": "https://localhost:8080/"
        },
        "id": "PvsdwJzxyd_A",
        "outputId": "6f9ccc60-1c1c-4dfa-9ccb-201a77a323a5"
      },
      "source": [
        "# Basic calculator using opps (+,-,*,/): choice inside classs\n",
        "class c1:\n",
        "    def __init__(self):\n",
        "        self.a=0\n",
        "        self.b=0\n",
        "        self.c=\"\"\n",
        "        self.r=0\n",
        "    def add(self):\n",
        "        self.r = self.a + self.b\n",
        "    def sub(self):\n",
        "        self.r = self.a - self.b\n",
        "    def mul(self):\n",
        "        self.r = self.a * self.b\n",
        "    def div(self):\n",
        "        self.r = self.a / self.b\n",
        "p=c1()   # initially, p.a=0, p.b=0 and p.c=\"\"\n",
        "p.a=int(input(\"enter first number: \"))\n",
        "p.b=int(input(\"enter second number: \"))\n",
        "p.c=input(\"Enter your choice: +, _, *, /: \")\n",
        "if p.c == \"+\":\n",
        "    p.add()\n",
        "    print(\"Sum of\",p.a,\"and\",p.b,\"are :\",p.r)\n",
        "elif p.c == \"-\":\n",
        "    p.sub()\n",
        "    print(\"Subtraction of\",p.a,\"and\",p.b,\"are :\",p.r)\n",
        "elif p.c == \"*\":\n",
        "    p.mul()\n",
        "    print(\"Multiply of\",p.a,\"and\",p.b,\"are :\",p.r)\n",
        "elif p.c == \"/\":\n",
        "    p.div()\n",
        "    print(\"Divide of\",p.a,\"and\",p.b,\"are :\",p.r)\n",
        "else:\n",
        "    print(\"Incorrect input. please check input, entered numbers should be integer only and operations should be + or - or * or / only\")\n"
      ],
      "execution_count": 1,
      "outputs": [
        {
          "output_type": "stream",
          "name": "stdout",
          "text": [
            "enter first number: 10\n",
            "enter second number: 20\n",
            "Enter your choice: +, _, *, /: +\n",
            "Sum of 10 and 20 are : 30\n"
          ]
        }
      ]
    }
  ]
}